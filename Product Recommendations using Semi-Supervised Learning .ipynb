{
 "cells": [
  {
   "cell_type": "markdown",
   "metadata": {},
   "source": [
    "# Product Recommendations using Semi-Supervised Learning \n"
   ]
  },
  {
   "cell_type": "code",
   "execution_count": null,
   "metadata": {
    "collapsed": true
   },
   "outputs": [],
   "source": [
    "def vector_similarities(v1, v2):\n",
    "    # Compute number of matching fields (-1 does not match by default)\n",
    "    agreement = sum([v1[i] == v2[i] for i in range(len(v1)) if v1[i] > -1 ])\n",
    "    return agreement\n",
    "\n",
    "def confidence(target, neighbor):\n",
    "    # Many items do they have in common?\n",
    "    return sum([1 for i in range(len(neighbor)) if neighbor[i] > -1 and target[i] > -1])\n",
    "\n",
    "def fill_field(index, target, data, k):\n",
    "    fill_data = [elem for elem in data if elem[index] > -1] # if the field is filled\n",
    "    k = min(k, len(fill_data))\n",
    "    similarities = [vector_similarities(target, data_elem) for data_elem in fill_data]\n",
    "    confidences = [confidence(target, data_elem) for data_elem in fill_data]\n",
    "    # take the k most similar items\n",
    "    similarity_cutoff = list(reversed(sorted(similarities)))[k-1]\n",
    "    sum_weights = sum([confidences[i] for i in range(len(fill_data)) if similarities[i]>=similarity_cutoff])\n",
    "    sum_votes = sum([fill_data[i][index] * confidences[i] for i in range(len(fill_data)) if similarities[i]>=similarity_cutoff])\n",
    "    return sum_votes/sum_weights, k\n",
    "\n",
    "def fill_vector(query_vector, data, k):\n",
    "    scores = []\n",
    "    confidences = []\n",
    "    for index in range(len(query_vector)):\n",
    "        if query_vector[index] > -1:\n",
    "            scores.append(query_vector[index])\n",
    "            confidences.append(-1) # Meaning infinite confidence\n",
    "        else:\n",
    "            score, confidence = fill_field(index, query_vector, data, k)\n",
    "            scores.append(score)\n",
    "            confidences.append(confidence)\n",
    "    return scores, confidences\n"
   ]
  },
  {
   "cell_type": "code",
   "execution_count": null,
   "metadata": {
    "collapsed": true
   },
   "outputs": [],
   "source": [
    "# Computing nearest neighbors - an example\n",
    "# -1 means field is missing\n",
    "\n",
    "data = [[1,  1,  1,  1,  1,  1],\n",
    "       [-1, -1, -1,  0,  1, -1],\n",
    "       [-1, -1,  1,  0, -1, -1],\n",
    "       [ 1,  1,  0, -1, -1, -1],\n",
    "       [-1, -1,  1,  0,  1, -1]]\n",
    "\n",
    "query_vector = [-1, 1, 1, -1, -1, -1]"
   ]
  },
  {
   "cell_type": "code",
   "execution_count": null,
   "metadata": {},
   "outputs": [],
   "source": [
    "scores, confidences = fill_vector(query_vector, data, 10)\n",
    "print(\"Scores:\", scores)\n",
    "print(\"Confidences: \", confidences)"
   ]
  },
  {
   "cell_type": "markdown",
   "metadata": {},
   "source": [
    "# Extracting Features from Natural Language"
   ]
  },
  {
   "cell_type": "code",
   "execution_count": null,
   "metadata": {
    "collapsed": true
   },
   "outputs": [],
   "source": [
    "from sklearn.feature_extraction.text import TfidfVectorizer\n",
    "vectorizer = TfidfVectorizer()"
   ]
  },
  {
   "cell_type": "code",
   "execution_count": null,
   "metadata": {
    "collapsed": true
   },
   "outputs": [],
   "source": [
    "sample_texts = [\"An epic space fantasy with love and explosions.\",\n",
    "               \"A Programming How-To with great anecdotes.\",\n",
    "               \"A How-To manual for Python.\",\n",
    "               \"Epic battles, a dragon, and a love story.\",\n",
    "               \"Train your very own dragon!\"]"
   ]
  },
  {
   "cell_type": "code",
   "execution_count": null,
   "metadata": {
    "collapsed": true
   },
   "outputs": [],
   "source": [
    "X = vectorizer.fit_transform(sample_texts)"
   ]
  },
  {
   "cell_type": "code",
   "execution_count": null,
   "metadata": {
    "scrolled": true
   },
   "outputs": [],
   "source": [
    "print(vectorizer.get_feature_names())\n",
    "print(X.toarray())"
   ]
  },
  {
   "cell_type": "code",
   "execution_count": null,
   "metadata": {},
   "outputs": [],
   "source": [
    "from sklearn.manifold import TSNE\n",
    "import matplotlib.pyplot as plt\n",
    "\n",
    "embedding = TSNE(n_components=2) # Here, the n_components is the number of dimensions, not number of clusters.\n",
    "embedded_data = embedding.fit_transform(X.toarray()) # Creates 2-d embeddings of the original data.\n",
    "print(\"Data Shape\", embedded_data.shape)\n",
    "\n",
    "# We can now plot the data:\n",
    "plt.title(\"t-SNE embeddings of our data\")\n",
    "plt.scatter(embedded_data[:,0], embedded_data[:,1])\n",
    "plt.show()"
   ]
  },
  {
   "cell_type": "markdown",
   "metadata": {},
   "source": [
    "# A note on Active Learning\n",
    "\n",
    "The informational value of making a recommendation will generally depend on the objective for recommendation and the way that information is extrapolated to future recommendations. One way is to compute across all user/item pairs that are estimated how much the uncertainty in the estimates will decrease if the additional cell is filled in. In practice, this may be quite expensive to compute, so a heuristic is to take the product of the square of the uncertainty in a particular pair, the number of non-empty fields in the column vector, and the number of non-empty fields in the row vector.\n",
    "\n",
    "However, trading off the expected informational gain and the value of making recommendations that are already good is another issue entirely. These issues will be solved cleanly and from a slightly different mindset in Section 5, which discusses Reinforcement Learning."
   ]
  },
  {
   "cell_type": "code",
   "execution_count": null,
   "metadata": {
    "collapsed": true
   },
   "outputs": [],
   "source": []
  }
 ],
 "metadata": {
  "kernelspec": {
   "display_name": "Python 3",
   "language": "python",
   "name": "python3"
  },
  "language_info": {
   "codemirror_mode": {
    "name": "ipython",
    "version": 3
   },
   "file_extension": ".py",
   "mimetype": "text/x-python",
   "name": "python",
   "nbconvert_exporter": "python",
   "pygments_lexer": "ipython3",
   "version": "3.6.3"
  }
 },
 "nbformat": 4,
 "nbformat_minor": 2
}
