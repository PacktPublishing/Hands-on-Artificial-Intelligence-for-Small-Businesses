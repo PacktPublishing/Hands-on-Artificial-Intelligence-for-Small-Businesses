{
 "cells": [
  {
   "cell_type": "code",
   "execution_count": null,
   "metadata": {
    "collapsed": true
   },
   "outputs": [],
   "source": [
    "data = [(i-5) * (i-5) for i in range(10)]\n",
    "print(data, \" max: \", max(data), \", min: \", min(data))"
   ]
  },
  {
   "cell_type": "markdown",
   "metadata": {},
   "source": [
    "# Must Know about Python!\n",
    "- use collections!\n",
    "- use lambdas!\n",
    "- use functionals!"
   ]
  },
  {
   "cell_type": "code",
   "execution_count": null,
   "metadata": {
    "collapsed": true
   },
   "outputs": [],
   "source": [
    "iterable = range(10)  # Creates an iterable that goes from 0 to 9\n",
    "print(iterable)\n",
    "# dir(iterable)  # Shows what you can do with it."
   ]
  },
  {
   "cell_type": "code",
   "execution_count": null,
   "metadata": {
    "collapsed": true
   },
   "outputs": [],
   "source": [
    "some_list = list(iterable)  # Converts to a list. Python does not use proper 'arrays' naturally.\n",
    "print(some_list)\n",
    "some_set = set(iterable)\n",
    "print(some_set)\n",
    "some_dict = {i: i*i for i in iterable}  # This is the \"List Comprehension\" syntax\n",
    "print(some_dict)"
   ]
  },
  {
   "cell_type": "code",
   "execution_count": null,
   "metadata": {
    "collapsed": true
   },
   "outputs": [],
   "source": [
    "# Lambdas - Functions can be treated as objects\n",
    "print(lambda some_object: some_object)"
   ]
  },
  {
   "cell_type": "code",
   "execution_count": null,
   "metadata": {
    "collapsed": true
   },
   "outputs": [],
   "source": [
    "x = lambda number: number + 1\n",
    "y = x\n",
    "print(y(1))"
   ]
  },
  {
   "cell_type": "code",
   "execution_count": null,
   "metadata": {
    "collapsed": true
   },
   "outputs": [],
   "source": [
    "z = lambda number: x(x(number))\n",
    "print(z(1))"
   ]
  },
  {
   "cell_type": "code",
   "execution_count": null,
   "metadata": {
    "collapsed": true
   },
   "outputs": [],
   "source": [
    "print(list(map(z, iterable)))"
   ]
  },
  {
   "cell_type": "code",
   "execution_count": null,
   "metadata": {
    "collapsed": true
   },
   "outputs": [],
   "source": [
    "# filter and is_divisible\n",
    "def is_divisible_by(factor):\n",
    "    return (lambda number: number % factor == 0)\n",
    "\n",
    "even = is_divisible_by(2)\n",
    "print(list(filter(even, iterable)))\n",
    "odd = lambda number: not(even(number))\n",
    "print(list(filter(odd, iterable)))"
   ]
  },
  {
   "cell_type": "code",
   "execution_count": null,
   "metadata": {
    "collapsed": true
   },
   "outputs": [],
   "source": [
    "# map and multiply_by\n",
    "def multiply_by(factor_to_multiply_by):\n",
    "    return (lambda input_number: factor_to_multiply_by * input_number)\n",
    "\n",
    "doubler = multiply_by(2)\n",
    "print(list(map(doubler, some_list)))\n",
    "tripler = multiply_by(3)\n",
    "print(list(map(tripler, some_list)))"
   ]
  },
  {
   "cell_type": "code",
   "execution_count": null,
   "metadata": {
    "collapsed": true
   },
   "outputs": [],
   "source": [
    "# (arg)min\n",
    "print(min(range(10), key=lambda value: (value-5.2)*(value-5.2)))\n",
    "# Python allows named parameters, like 'key' for when there are long lists of optional parameters.\n",
    "# The lambda object created here is passed as the parameter called \"key\". See below for a clearer example."
   ]
  },
  {
   "cell_type": "code",
   "execution_count": null,
   "metadata": {
    "collapsed": true
   },
   "outputs": [],
   "source": [
    "data = [5, 0, 4, 7, -1]\n",
    "print(min(data))"
   ]
  },
  {
   "cell_type": "code",
   "execution_count": null,
   "metadata": {
    "collapsed": true
   },
   "outputs": [],
   "source": [
    "print(min(range(len(data)), key=(lambda index: data[index])))"
   ]
  },
  {
   "cell_type": "markdown",
   "metadata": {},
   "source": [
    "___\n",
    "# Numpy\n",
    "Time to start thinking in terms of matrices and parallel data.  \n",
    "There are a few ways to create matrices in Numpy:"
   ]
  },
  {
   "cell_type": "code",
   "execution_count": null,
   "metadata": {
    "collapsed": true
   },
   "outputs": [],
   "source": [
    "import numpy as np"
   ]
  },
  {
   "cell_type": "code",
   "execution_count": null,
   "metadata": {},
   "outputs": [],
   "source": [
    "arr1 = np.array([1, 8, 2, 7])\n",
    "print(arr1.shape)\n",
    "print(arr1)"
   ]
  },
  {
   "cell_type": "code",
   "execution_count": null,
   "metadata": {},
   "outputs": [],
   "source": [
    "arr2 = np.arange(4)  # Note that this is \"a. range\", not \"arrange\". Short for \"Array Range\".\n",
    "print(arr2.shape)\n",
    "print(arr2)"
   ]
  },
  {
   "cell_type": "code",
   "execution_count": null,
   "metadata": {},
   "outputs": [],
   "source": [
    "arr3 = np.arange(20).reshape((4,5))\n",
    "print(arr3.shape)\n",
    "print(arr3)"
   ]
  },
  {
   "cell_type": "code",
   "execution_count": null,
   "metadata": {},
   "outputs": [],
   "source": [
    "arr4 = np.zeros((4,5))\n",
    "print(arr4.shape)\n",
    "print(arr4)"
   ]
  },
  {
   "cell_type": "code",
   "execution_count": null,
   "metadata": {},
   "outputs": [],
   "source": [
    "arr4_1 = arr4 + .5\n",
    "print(arr4_1)\n",
    "arr4_2 = arr4_1 * 2\n",
    "print(arr4_2)"
   ]
  },
  {
   "cell_type": "code",
   "execution_count": null,
   "metadata": {},
   "outputs": [],
   "source": [
    "arr5 = np.ones((5,4))\n",
    "print(arr5.shape)\n",
    "print(arr5)"
   ]
  },
  {
   "cell_type": "code",
   "execution_count": null,
   "metadata": {},
   "outputs": [],
   "source": [
    "arr6 = np.identity(4)\n",
    "print(arr6.shape)\n",
    "print(arr6)"
   ]
  },
  {
   "cell_type": "code",
   "execution_count": null,
   "metadata": {},
   "outputs": [],
   "source": [
    "arr6[1,0] = 42 # We can do assignment to any indexed/sliced submatrix\n",
    "print(arr6)"
   ]
  },
  {
   "cell_type": "markdown",
   "metadata": {},
   "source": [
    "# Slicing\n",
    "Numpy extends the indexing syntax of arrays to allow selection of contiguous submatrices, or even conditional selection.\n",
    "Numpy also allows appending of matrices."
   ]
  },
  {
   "cell_type": "code",
   "execution_count": null,
   "metadata": {
    "collapsed": true
   },
   "outputs": [],
   "source": [
    "from sklearn import datasets\n",
    "from matplotlib import pyplot as plt"
   ]
  },
  {
   "cell_type": "code",
   "execution_count": null,
   "metadata": {},
   "outputs": [],
   "source": [
    "iris = datasets.load_iris()\n",
    "iris_data = iris.data\n",
    "iris_labels = iris.target\n",
    "print(\"Data: \", iris_data.shape)\n",
    "print(\"Data Transposed: \", iris_data.T.shape)  # Note the .T used to get the transpose.\n",
    "print(\"Labels: \", iris_labels.shape)"
   ]
  },
  {
   "cell_type": "code",
   "execution_count": null,
   "metadata": {},
   "outputs": [],
   "source": [
    "# https://docs.scipy.org/doc/numpy-1.13.0/user/basics.indexing.html\n",
    "\n",
    "# Select only the second 2 features in the middle 50 rows:\n",
    "subset_data = iris_data[50:100, 2:]\n",
    "print(subset_data.shape)"
   ]
  },
  {
   "cell_type": "code",
   "execution_count": null,
   "metadata": {},
   "outputs": [],
   "source": [
    "plt.scatter(subset_data[:,0], subset_data[:,1], c=iris_labels[50:100])\n",
    "plt.show()"
   ]
  },
  {
   "cell_type": "markdown",
   "metadata": {},
   "source": [
    "(For those with too much time on your hands, you may notice only 36 points, which is not the 50 we sliced. In the iris dataset, measurements were only made to the nearest tenth of a centimeter, leading to some points having identical coordinates in this 2D subspace.)"
   ]
  },
  {
   "cell_type": "code",
   "execution_count": null,
   "metadata": {},
   "outputs": [],
   "source": [
    "moons_data, moons_labels = datasets.make_moons(n_samples=200, noise=.05)\n",
    "print(moons_labels[:10])  # The points from the different classes are all mixed up.\n",
    "plt.scatter(moons_data[:,0], moons_data[:,1], c=moons_labels)\n",
    "plt.show()"
   ]
  },
  {
   "cell_type": "code",
   "execution_count": null,
   "metadata": {},
   "outputs": [],
   "source": [
    "# Let's filter for only one half-circle.  Start by appending labels to data.\n",
    "print(moons_data.shape)\n",
    "print(moons_labels.shape)\n",
    "combined = np.append(moons_data, moons_labels, 1)  # 1 is the dimension along which the appending happens.  0 for rows, 1 for columns.\n",
    "print (combined.shape)"
   ]
  },
  {
   "cell_type": "code",
   "execution_count": null,
   "metadata": {},
   "outputs": [],
   "source": [
    "print(moons_data.shape)\n",
    "moons_labels = moons_labels.reshape(len(moons_labels), 1)\n",
    "print(moons_labels.shape)\n",
    "combined = np.append(moons_data, moons_labels, 1)  # 1 is the dimension along which the appending happens.  0 for rows, 1 for columns.\n",
    "print (combined.shape)"
   ]
  },
  {
   "cell_type": "code",
   "execution_count": null,
   "metadata": {},
   "outputs": [],
   "source": [
    "condition = combined[:,2]==0  # This is subtle. First, we select the final column.  Then, an element-wise boolean operation is performed.\n",
    "circle_0 = combined[condition]\n",
    "plt.scatter(circle_0[:,0], circle_0[:,1], c=circle_0[:,2])\n",
    "plt.show()"
   ]
  },
  {
   "cell_type": "markdown",
   "metadata": {},
   "source": [
    "# Matrix Multiplication!"
   ]
  },
  {
   "cell_type": "code",
   "execution_count": null,
   "metadata": {
    "collapsed": true
   },
   "outputs": [],
   "source": [
    "fib_mat = np.array([[1, 1], [1, 0]])\n",
    "print(fib_mat)"
   ]
  },
  {
   "cell_type": "code",
   "execution_count": null,
   "metadata": {
    "collapsed": true
   },
   "outputs": [],
   "source": [
    "print(fib_mat @ fib_mat)\n",
    "print(fib_mat @ fib_mat @ fib_mat)\n",
    "print(fib_mat @ fib_mat @ fib_mat @ fib_mat)"
   ]
  },
  {
   "cell_type": "code",
   "execution_count": null,
   "metadata": {
    "collapsed": true
   },
   "outputs": [],
   "source": [
    "print(np.linalg.matrix_power(fib_mat, 5))"
   ]
  },
  {
   "cell_type": "markdown",
   "metadata": {},
   "source": [
    "# Question:\n",
    "If we were to write our own fibonacci computing function, what are some things we could do to make it as fast as possible?"
   ]
  },
  {
   "cell_type": "code",
   "execution_count": null,
   "metadata": {
    "collapsed": true
   },
   "outputs": [],
   "source": [
    "def numpy_fib(n):\n",
    "    return np.linalg.matrix_power(fib_mat, n-1)[0,0]\n",
    "\n",
    "def by_hand_mat_mult(two_by_two_matrix, two_by_two_matrix_2):\n",
    "    tbt = two_by_two_matrix\n",
    "    tbt2 = two_by_two_matrix_2\n",
    "    return [[tbt[0][0]*tbt2[0][0] + tbt[0][1] * tbt2[1][0], tbt[0][0]*tbt2[0][1] + tbt[0][1] * tbt2[1][1]],\n",
    "            [tbt[1][0]*tbt2[0][0] + tbt[1][1] * tbt2[1][0], tbt[1][0]*tbt2[0][1] + tbt[1][1] * tbt2[1][1]]]\n",
    "\n",
    "def by_hand_mat_exp(matr, n):\n",
    "    if n<=1:\n",
    "        return matr\n",
    "    elif n%2==0:\n",
    "        sub_mat = by_hand_mat_exp(matr, n/2)\n",
    "        return by_hand_mat_mult(sub_mat, sub_mat)\n",
    "    else:\n",
    "        return by_hand_mat_mult(matr, by_hand_mat_exp(matr, n-1))\n",
    "\n",
    "def by_hand_fib(n):\n",
    "    return by_hand_mat_exp(fib_mat, n-1)[0][0]"
   ]
  },
  {
   "cell_type": "code",
   "execution_count": null,
   "metadata": {
    "collapsed": true
   },
   "outputs": [],
   "source": [
    "print(numpy_fib(6))\n",
    "print(by_hand_fib(6))"
   ]
  },
  {
   "cell_type": "code",
   "execution_count": null,
   "metadata": {
    "collapsed": true
   },
   "outputs": [],
   "source": [
    "# Ignore this - just some timing and utilities:\n",
    "\n",
    "# Series Statistics: Utilities\n",
    "def mean_sd_se(list_of_values):\n",
    "    mean = sum(list_of_values)/max(1, len(list_of_values))\n",
    "    var = sum([(value - mean)*(value - mean) for value in list_of_values])/max(1, len(list_of_values))\n",
    "    std_dev = math.sqrt(var)\n",
    "    std_err = std_dev/math.sqrt(max(1, len(list_of_values)))\n",
    "    return (mean, std_dev, std_err)\n",
    "\n",
    "def series_statistics(list_of_lists):\n",
    "    means = []\n",
    "    std_devs = []\n",
    "    std_errs = []\n",
    "    for list_of_values in list_of_lists:\n",
    "        (mean, sd, se) = mean_sd_se(list_of_values)\n",
    "        means.append(mean)\n",
    "        std_devs.append(sd)\n",
    "        std_errs.append(se)\n",
    "    return (means, std_devs, std_errs)\n",
    "\n",
    "import timeit"
   ]
  },
  {
   "cell_type": "code",
   "execution_count": null,
   "metadata": {
    "collapsed": true
   },
   "outputs": [],
   "source": [
    "# An experiment to compare the runtime of our implementation vs. the one-line numpy solution.\n",
    "\n",
    "import math\n",
    "timings = []\n",
    "timings_2 = []\n",
    "indices = [int(math.pow(2,i)) for i in range(1,20+1)]\n",
    "for index in indices:\n",
    "    print('index: ', index)\n",
    "    times = []\n",
    "    times_2 = []\n",
    "    for repeat_index in range(50000):\n",
    "        start_time = timeit.default_timer()\n",
    "        val = numpy_fib(index)\n",
    "        elapsed = timeit.default_timer() - start_time\n",
    "        times.append(elapsed)\n",
    "        start_time = timeit.default_timer()\n",
    "        val_2 = by_hand_fib(index)\n",
    "        elapsed = timeit.default_timer() - start_time\n",
    "        times_2.append(elapsed)\n",
    "    timings.append(times)\n",
    "    timings_2.append(times_2)\n",
    "(means, sds, ses) = series_statistics(timings)\n",
    "(means_2, sds_2, ses_2) = series_statistics(timings_2)\n",
    "plt.errorbar(indices, means, yerr=ses, label='numpy')\n",
    "plt.errorbar(indices, means_2, yerr=ses_2, label='by_hand')\n",
    "plt.legend()\n",
    "plt.ylabel('seconds')\n",
    "plt.xlabel('fibonacci index')\n",
    "plt.show()"
   ]
  },
  {
   "cell_type": "markdown",
   "metadata": {},
   "source": [
    "# Final Note\n",
    "By default, Python only imports a module once; after that, future imports of the same module have no effect. This can catch you off guard if you are actively modifying a custom module that you import into a notebook. An easy fix is to restart the kernel when you modify an imported file. Alternately, `import importlib` and `importlib.reload(<package_name>)`. By doing most of your development in notebooks and then putting finished work in imported modules, you can have the best of both environments.\n",
    "\n",
    "Another common issue is modifying one collection and having those changes reflected in a different one. This can happen when you have code like the _bottom_ cell below. This can be resolved by using the `copy` library from python (with `copy` or `deepcopy` functions), or by using `np.copy`.\n",
    "\n",
    "For more common Python \"gotcha's\", check out http://docs.python-guide.org/en/latest/writing/gotchas/."
   ]
  },
  {
   "cell_type": "code",
   "execution_count": null,
   "metadata": {
    "collapsed": true
   },
   "outputs": [],
   "source": [
    "import importlib\n",
    "importlib.reload(np)"
   ]
  },
  {
   "cell_type": "code",
   "execution_count": null,
   "metadata": {
    "collapsed": true
   },
   "outputs": [],
   "source": [
    "npmat = np.arange(100).reshape((10,10)) + 1  # Creates table 1-100\n",
    "npmat_same = npmat\n",
    "npmat_different = np.copy(npmat)\n",
    "npmat_extended_different = np.append(npmat, npmat[:,0].reshape((len(npmat), 1)), 1)  # Appending (more columns here), creates a new matrix.\n",
    "npmat[5:9,5:9]=-1\n",
    "print(npmat, \"original\")\n",
    "print(npmat_same, \"assignment\")\n",
    "print(npmat_different, \"np.copy\")\n",
    "print(npmat_extended_different, \"np.append\")"
   ]
  },
  {
   "cell_type": "code",
   "execution_count": null,
   "metadata": {
    "collapsed": true
   },
   "outputs": [],
   "source": []
  }
 ],
 "metadata": {
  "kernelspec": {
   "display_name": "Python 3",
   "language": "python",
   "name": "python3"
  },
  "language_info": {
   "codemirror_mode": {
    "name": "ipython",
    "version": 3
   },
   "file_extension": ".py",
   "mimetype": "text/x-python",
   "name": "python",
   "nbconvert_exporter": "python",
   "pygments_lexer": "ipython3",
   "version": "3.6.3"
  }
 },
 "nbformat": 4,
 "nbformat_minor": 2
}
